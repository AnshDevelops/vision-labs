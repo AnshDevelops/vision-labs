{
 "cells": [
  {
   "metadata": {
    "ExecuteTime": {
     "end_time": "2025-05-20T20:05:49.220095Z",
     "start_time": "2025-05-20T20:05:49.215725Z"
    }
   },
   "cell_type": "code",
   "source": [
    "import torch\n",
    "\n",
    "torch.cuda.empty_cache()"
   ],
   "id": "8dd93b56d7e8e446",
   "outputs": [],
   "execution_count": 6
  },
  {
   "metadata": {
    "ExecuteTime": {
     "end_time": "2025-05-20T20:04:08.101149Z",
     "start_time": "2025-05-20T20:04:07.854316Z"
    }
   },
   "cell_type": "code",
   "source": [
    "from omegaconf import OmegaConf\n",
    "from hydra import initialize, compose\n",
    "\n",
    "with initialize(config_path=\"configs\", version_base=\"1.3.2\"):\n",
    "    cfg = compose(config_name=\"config\")\n",
    "print(OmegaConf.to_yaml(cfg))"
   ],
   "id": "623d8c4f76ef0245",
   "outputs": [
    {
     "name": "stdout",
     "output_type": "stream",
     "text": [
      "model:\n",
      "  block: BasicBlock\n",
      "  layers:\n",
      "  - 3\n",
      "  - 4\n",
      "  - 6\n",
      "  - 3\n",
      "dataset:\n",
      "  name: CIFAR10\n",
      "  root: ./data\n",
      "  num_classes: 10\n",
      "  color_channels: 3\n",
      "scheduler:\n",
      "  name: reduce_on_plateau\n",
      "  mode: min\n",
      "  factor: 0.1\n",
      "  patience: 3\n",
      "  threshold: 0.0001\n",
      "  threshold_mode: rel\n",
      "  cooldown: 0\n",
      "  min_lr: 0.0\n",
      "  eps: 1.0e-08\n",
      "transforms:\n",
      "  train:\n",
      "    RandomCrop:\n",
      "      size: 32\n",
      "      padding: 4\n",
      "    RandomHorizontalFlip: {}\n",
      "    ToTensor: {}\n",
      "    Normalize:\n",
      "      mean:\n",
      "      - 0.4914\n",
      "      - 0.4822\n",
      "      - 0.4465\n",
      "      std:\n",
      "      - 0.247\n",
      "      - 0.2435\n",
      "      - 0.2616\n",
      "  val:\n",
      "    ToTensor: {}\n",
      "    Normalize:\n",
      "      mean:\n",
      "      - 0.4914\n",
      "      - 0.4822\n",
      "      - 0.4465\n",
      "      std:\n",
      "      - 0.247\n",
      "      - 0.2435\n",
      "      - 0.2616\n",
      "training:\n",
      "  epochs: 50\n",
      "  lr: 0.1\n",
      "  momentum: 0.9\n",
      "  weight_decay: 0.0005\n",
      "  batch_size: 64\n",
      "  num_workers: 4\n",
      "  seed: 42\n",
      "  device: cuda\n",
      "logging:\n",
      "  log_dir: ./runs/${now:%Y-%m-%d_%H-%M-%S}\n",
      "  tensorboard: true\n",
      "  use_notebook: false\n",
      "\n"
     ]
    },
    {
     "name": "stderr",
     "output_type": "stream",
     "text": [
      "E:\\miniconda3\\envs\\toast\\Lib\\site-packages\\hydra\\_internal\\defaults_list.py:251: UserWarning: In 'config': Defaults list is missing `_self_`. See https://hydra.cc/docs/1.2/upgrades/1.0_to_1.1/default_composition_order for more information\n",
      "  warnings.warn(msg, UserWarning)\n"
     ]
    }
   ],
   "execution_count": 2
  },
  {
   "metadata": {
    "ExecuteTime": {
     "end_time": "2025-05-20T20:04:14.277820Z",
     "start_time": "2025-05-20T20:04:09.698133Z"
    }
   },
   "cell_type": "code",
   "source": [
    "from datasets.cifar import get_cifar10_loaders\n",
    "from models.cnns.resnet import resnet18\n",
    "from torchinfo import summary\n",
    "\n",
    "train_loader, val_loader = get_cifar10_loaders(\n",
    "    root=cfg.dataset.root,\n",
    "    batch_size=cfg.training.batch_size,\n",
    "    num_workers=cfg.training.num_workers,\n",
    "    transform_cfg=cfg.transforms,\n",
    ")\n",
    "\n",
    "model = resnet18(num_classes=cfg.dataset.num_classes, color_channels=cfg.dataset.color_channels)\n",
    "summary(model)"
   ],
   "id": "bf4118eb467210e3",
   "outputs": [
    {
     "data": {
      "text/plain": [
       "=================================================================\n",
       "Layer (type:depth-idx)                   Param #\n",
       "=================================================================\n",
       "ResNet                                   --\n",
       "├─Conv2d: 1-1                            9,408\n",
       "├─BatchNorm2d: 1-2                       128\n",
       "├─ReLU: 1-3                              --\n",
       "├─MaxPool2d: 1-4                         --\n",
       "├─Sequential: 1-5                        --\n",
       "│    └─BasicBlock: 2-1                   --\n",
       "│    │    └─Conv2d: 3-1                  36,864\n",
       "│    │    └─BatchNorm2d: 3-2             128\n",
       "│    │    └─Conv2d: 3-3                  36,864\n",
       "│    │    └─BatchNorm2d: 3-4             128\n",
       "│    │    └─ReLU: 3-5                    --\n",
       "│    └─BasicBlock: 2-2                   --\n",
       "│    │    └─Conv2d: 3-6                  36,864\n",
       "│    │    └─BatchNorm2d: 3-7             128\n",
       "│    │    └─Conv2d: 3-8                  36,864\n",
       "│    │    └─BatchNorm2d: 3-9             128\n",
       "│    │    └─ReLU: 3-10                   --\n",
       "├─Sequential: 1-6                        --\n",
       "│    └─BasicBlock: 2-3                   --\n",
       "│    │    └─Sequential: 3-11             8,448\n",
       "│    │    └─Conv2d: 3-12                 73,728\n",
       "│    │    └─BatchNorm2d: 3-13            256\n",
       "│    │    └─Conv2d: 3-14                 147,456\n",
       "│    │    └─BatchNorm2d: 3-15            256\n",
       "│    │    └─ReLU: 3-16                   --\n",
       "│    └─BasicBlock: 2-4                   --\n",
       "│    │    └─Conv2d: 3-17                 147,456\n",
       "│    │    └─BatchNorm2d: 3-18            256\n",
       "│    │    └─Conv2d: 3-19                 147,456\n",
       "│    │    └─BatchNorm2d: 3-20            256\n",
       "│    │    └─ReLU: 3-21                   --\n",
       "├─Sequential: 1-7                        --\n",
       "│    └─BasicBlock: 2-5                   --\n",
       "│    │    └─Sequential: 3-22             33,280\n",
       "│    │    └─Conv2d: 3-23                 294,912\n",
       "│    │    └─BatchNorm2d: 3-24            512\n",
       "│    │    └─Conv2d: 3-25                 589,824\n",
       "│    │    └─BatchNorm2d: 3-26            512\n",
       "│    │    └─ReLU: 3-27                   --\n",
       "│    └─BasicBlock: 2-6                   --\n",
       "│    │    └─Conv2d: 3-28                 589,824\n",
       "│    │    └─BatchNorm2d: 3-29            512\n",
       "│    │    └─Conv2d: 3-30                 589,824\n",
       "│    │    └─BatchNorm2d: 3-31            512\n",
       "│    │    └─ReLU: 3-32                   --\n",
       "├─Sequential: 1-8                        --\n",
       "│    └─BasicBlock: 2-7                   --\n",
       "│    │    └─Sequential: 3-33             132,096\n",
       "│    │    └─Conv2d: 3-34                 1,179,648\n",
       "│    │    └─BatchNorm2d: 3-35            1,024\n",
       "│    │    └─Conv2d: 3-36                 2,359,296\n",
       "│    │    └─BatchNorm2d: 3-37            1,024\n",
       "│    │    └─ReLU: 3-38                   --\n",
       "│    └─BasicBlock: 2-8                   --\n",
       "│    │    └─Conv2d: 3-39                 2,359,296\n",
       "│    │    └─BatchNorm2d: 3-40            1,024\n",
       "│    │    └─Conv2d: 3-41                 2,359,296\n",
       "│    │    └─BatchNorm2d: 3-42            1,024\n",
       "│    │    └─ReLU: 3-43                   --\n",
       "├─AdaptiveAvgPool2d: 1-9                 --\n",
       "├─Linear: 1-10                           5,130\n",
       "=================================================================\n",
       "Total params: 11,181,642\n",
       "Trainable params: 11,181,642\n",
       "Non-trainable params: 0\n",
       "================================================================="
      ]
     },
     "execution_count": 3,
     "metadata": {},
     "output_type": "execute_result"
    }
   ],
   "execution_count": 3
  },
  {
   "metadata": {
    "ExecuteTime": {
     "end_time": "2025-05-20T20:04:20.429497Z",
     "start_time": "2025-05-20T20:04:20.425162Z"
    }
   },
   "cell_type": "code",
   "source": [
    "import torch.nn as nn, torch.optim as optim\n",
    "\n",
    "criterion = nn.CrossEntropyLoss()\n",
    "optimizer = optim.SGD(model.parameters(),\n",
    "                      lr=cfg.training.lr,\n",
    "                      momentum=cfg.training.momentum,\n",
    "                      weight_decay=cfg.training.weight_decay)\n",
    "\n",
    "scheduler = optim.lr_scheduler.ReduceLROnPlateau(\n",
    "    optimizer,\n",
    "    mode=cfg.scheduler.mode,\n",
    "    factor=cfg.scheduler.factor,\n",
    "    patience=cfg.scheduler.patience,\n",
    "    threshold=cfg.scheduler.threshold,\n",
    "    threshold_mode=cfg.scheduler.threshold_mode,\n",
    "    cooldown=cfg.scheduler.cooldown,\n",
    "    min_lr=cfg.scheduler.min_lr,\n",
    "    eps=cfg.scheduler.eps\n",
    ")"
   ],
   "id": "575be205ecc8a302",
   "outputs": [],
   "execution_count": 4
  },
  {
   "metadata": {
    "ExecuteTime": {
     "end_time": "2025-05-20T20:05:44.588790Z",
     "start_time": "2025-05-20T20:04:21.315878Z"
    }
   },
   "cell_type": "code",
   "source": [
    "device = torch.device(\"cuda\" if torch.cuda.is_available() else \"cpu\")\n",
    "model.to(device)\n",
    "\n",
    "for epoch in range(2):\n",
    "    model.train()\n",
    "    train_loss = 0\n",
    "    for imgs, labels in train_loader:\n",
    "        imgs, labels = imgs.to(device), labels.to(device)\n",
    "        preds = model(imgs)\n",
    "        loss = criterion(preds, labels)\n",
    "        train_loss += loss.item()\n",
    "        optimizer.zero_grad()\n",
    "        loss.backward()\n",
    "        optimizer.step()\n",
    "    print(f\"Train Loss: {train_loss / len(train_loader):.4f}\")\n",
    "\n",
    "    model.eval()\n",
    "    correct, val_loss, total = 0, 0, 0\n",
    "    with torch.no_grad():\n",
    "        for imgs, labels in val_loader:\n",
    "            imgs, labels = imgs.to(device), labels.to(device)\n",
    "            outputs = model(imgs)\n",
    "            loss = criterion(outputs, labels)\n",
    "            val_loss += loss.item()\n",
    "            preds = outputs.argmax(dim=1)\n",
    "            correct += (preds == labels).sum().item()\n",
    "            total += labels.size(0)\n",
    "    print(f\"Val Loss: {val_loss / len(val_loader):.4f} Val  Acc : {correct / total:.4f}\")\n",
    "    scheduler.step(val_loss)"
   ],
   "id": "3ef15a12a57d8ba1",
   "outputs": [
    {
     "name": "stdout",
     "output_type": "stream",
     "text": [
      "Train Loss: 2.0062\n",
      "Val Loss: 1.6399 Val  Acc : 0.3998\n",
      "Train Loss: 1.5096\n",
      "Val Loss: 1.4099 Val  Acc : 0.4873\n"
     ]
    }
   ],
   "execution_count": 5
  },
  {
   "metadata": {},
   "cell_type": "code",
   "outputs": [],
   "execution_count": null,
   "source": "",
   "id": "1b6f3154534ef196"
  }
 ],
 "metadata": {
  "kernelspec": {
   "display_name": "Python 3",
   "language": "python",
   "name": "python3"
  },
  "language_info": {
   "codemirror_mode": {
    "name": "ipython",
    "version": 2
   },
   "file_extension": ".py",
   "mimetype": "text/x-python",
   "name": "python",
   "nbconvert_exporter": "python",
   "pygments_lexer": "ipython2",
   "version": "2.7.6"
  }
 },
 "nbformat": 4,
 "nbformat_minor": 5
}
